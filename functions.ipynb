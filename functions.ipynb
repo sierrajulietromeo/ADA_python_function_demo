{
 "cells": [
  {
   "cell_type": "code",
   "execution_count": null,
   "metadata": {
    "slideshow": {
     "slide_type": "slide"
    }
   },
   "outputs": [],
   "source": [
    "testFunct1()\n",
    "\n",
    "\n",
    "def testFunct1():\n",
    "    print(\"code executed from inside the function\")\n",
    "    "
   ]
  },
  {
   "cell_type": "code",
   "execution_count": null,
   "metadata": {
    "slideshow": {
     "slide_type": "slide"
    }
   },
   "outputs": [],
   "source": [
    "def testFunct():\n",
    "    print(\"code executed from inside the function\")\n",
    "    \n",
    "    \n",
    "testFunct()"
   ]
  },
  {
   "cell_type": "code",
   "execution_count": null,
   "metadata": {
    "slideshow": {
     "slide_type": "slide"
    }
   },
   "outputs": [],
   "source": [
    "def testFunct():\n",
    "    print(\"code executed from inside the function\")\n",
    "    \n",
    "    \n",
    "hello = testFunct()\n",
    "print(hello)"
   ]
  },
  {
   "cell_type": "code",
   "execution_count": null,
   "metadata": {
    "slideshow": {
     "slide_type": "slide"
    }
   },
   "outputs": [],
   "source": [
    "def testFunct():\n",
    "    print(\"code executed from inside the function\")\n",
    "    return\n",
    "    \n",
    "hello = testFunct()\n",
    "print(hello)"
   ]
  },
  {
   "cell_type": "code",
   "execution_count": null,
   "metadata": {
    "slideshow": {
     "slide_type": "slide"
    }
   },
   "outputs": [],
   "source": [
    "def testFunct():\n",
    "    print(\"code executed from inside the function\")\n",
    "    return \"returned words\"\n",
    "    \n",
    "hello = testFunct()\n",
    "print(hello)"
   ]
  },
  {
   "cell_type": "code",
   "execution_count": null,
   "metadata": {
    "slideshow": {
     "slide_type": "slide"
    }
   },
   "outputs": [],
   "source": [
    "def functionThatChecksPassword():\n",
    "    \n",
    "    authorised = False\n",
    "    \n",
    "    while not authorised:\n",
    "        word = input(\"Enter your password: \")\n",
    "        if word == \"secret\":\n",
    "            authorised = True\n",
    "            print(\"Password correct\")\n",
    "            \n",
    "functionThatChecksPassword()   "
   ]
  },
  {
   "cell_type": "code",
   "execution_count": null,
   "metadata": {
    "slideshow": {
     "slide_type": "slide"
    }
   },
   "outputs": [],
   "source": [
    "def testFunct():\n",
    "    return 2+2\n",
    "    \n",
    "hello = testFunct()\n",
    "print(hello)"
   ]
  },
  {
   "cell_type": "code",
   "execution_count": null,
   "metadata": {
    "slideshow": {
     "slide_type": "slide"
    }
   },
   "outputs": [],
   "source": [
    "def testFunct():\n",
    "    print(\"code executed from inside the function\")\n",
    "    return 4+4\n",
    "    \n",
    "    \n",
    "\n",
    "print(testFunct())"
   ]
  },
  {
   "cell_type": "code",
   "execution_count": null,
   "metadata": {
    "slideshow": {
     "slide_type": "slide"
    }
   },
   "outputs": [],
   "source": [
    "def testFunct():\n",
    "    print(\"code executed from inside the function\")\n",
    "    return 1,2\n",
    "    \n",
    "return1, return2 = testFunct()\n",
    "print(return1, return2)"
   ]
  },
  {
   "cell_type": "code",
   "execution_count": null,
   "metadata": {
    "slideshow": {
     "slide_type": "slide"
    }
   },
   "outputs": [],
   "source": [
    "def testFunct():\n",
    "    print(\"code executed from inside the function\")\n",
    "    return 3*5 , 2<1\n",
    "    \n",
    "return1, return2 = testFunct()\n",
    "print(return1, return2)"
   ]
  },
  {
   "cell_type": "code",
   "execution_count": null,
   "metadata": {
    "slideshow": {
     "slide_type": "slide"
    }
   },
   "outputs": [],
   "source": [
    "def testFunct():\n",
    "    print(\"code executed from inside the function\")\n",
    "    return \n",
    "\n",
    "\n",
    "number = input(\"enter a number\")\n",
    "value = testFunct(number)\n",
    "print(value)"
   ]
  },
  {
   "cell_type": "code",
   "execution_count": null,
   "metadata": {
    "slideshow": {
     "slide_type": "slide"
    }
   },
   "outputs": [],
   "source": [
    "def testFunct(number):\n",
    "    print(\"code executed from inside the function\")\n",
    "    return number*number\n",
    "\n",
    "\n",
    "number = int(input(\"enter a number: \"))\n",
    "value = testFunct(number)\n",
    "print(value)"
   ]
  },
  {
   "cell_type": "code",
   "execution_count": null,
   "metadata": {
    "slideshow": {
     "slide_type": "slide"
    }
   },
   "outputs": [],
   "source": [
    "def testFunct(number1, number2):\n",
    "    print(\"code executed from inside the function\")\n",
    "    return number1*number2, number1-number2\n",
    "\n",
    "\n",
    "number1 = int(input(\"enter a number: \"))\n",
    "number2 = int(input(\"enter a number: \"))\n",
    "number1, number2 = testFunct(number1, number2)\n",
    "print(number1, number2)"
   ]
  },
  {
   "cell_type": "code",
   "execution_count": null,
   "metadata": {
    "slideshow": {
     "slide_type": "slide"
    }
   },
   "outputs": [],
   "source": [
    "def testFunct(number1, number2):\n",
    "    print(\"code executed from inside the function\")\n",
    "    return number1*number2, number1-number2\n",
    "\n",
    "\n",
    "number = int(input(\"enter a number: \"))\n",
    "\n",
    "print(testFunct(number, number))\n",
    "print(type(testFunct(number, number)))  ## note the different data structure returned when you sequence like this\n",
    "\n",
    "\n"
   ]
  }
 ],
 "metadata": {
  "celltoolbar": "Slideshow",
  "kernelspec": {
   "display_name": "Python 3",
   "language": "python",
   "name": "python3"
  },
  "language_info": {
   "codemirror_mode": {
    "name": "ipython",
    "version": 3
   },
   "file_extension": ".py",
   "mimetype": "text/x-python",
   "name": "python",
   "nbconvert_exporter": "python",
   "pygments_lexer": "ipython3",
   "version": "3.6.8"
  }
 },
 "nbformat": 4,
 "nbformat_minor": 2
}
